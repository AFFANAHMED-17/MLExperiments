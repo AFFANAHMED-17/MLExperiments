{
  "nbformat": 4,
  "nbformat_minor": 0,
  "metadata": {
    "colab": {
      "provenance": [],
      "authorship_tag": "ABX9TyMZPT7ZjvT6IYs0KUHK+HW3",
      "include_colab_link": true
    },
    "kernelspec": {
      "name": "python3",
      "display_name": "Python 3"
    },
    "language_info": {
      "name": "python"
    }
  },
  "cells": [
    {
      "cell_type": "markdown",
      "metadata": {
        "id": "view-in-github",
        "colab_type": "text"
      },
      "source": [
        "<a href=\"https://colab.research.google.com/github/AFFANAHMED-17/MLExperiments/blob/main/MLEXP5.ipynb\" target=\"_parent\"><img src=\"https://colab.research.google.com/assets/colab-badge.svg\" alt=\"Open In Colab\"/></a>"
      ]
    },
    {
      "cell_type": "code",
      "execution_count": 3,
      "metadata": {
        "colab": {
          "base_uri": "https://localhost:8080/"
        },
        "id": "RvFPP5-eIrsn",
        "outputId": "48107223-d48f-4a57-ae18-1a9890a897d7"
      },
      "outputs": [
        {
          "output_type": "stream",
          "name": "stdout",
          "text": [
            "Evaluating RMSE, MAE of algorithm SVD on 5 split(s).\n",
            "\n",
            "                  Fold 1  Fold 2  Fold 3  Fold 4  Fold 5  Mean    Std     \n",
            "RMSE (testset)    0.8696  0.8775  0.8655  0.8805  0.8700  0.8726  0.0055  \n",
            "MAE (testset)     0.6685  0.6735  0.6642  0.6757  0.6679  0.6700  0.0041  \n",
            "Fit time          2.14    1.51    1.49    2.31    1.52    1.79    0.36    \n",
            "Test time         0.12    0.27    0.12    0.34    0.12    0.19    0.09    \n",
            "Top 10 recommended movies:\n",
            "     movieId                                              title\n",
            "210      246                                 Hoop Dreams (1994)\n",
            "277      318                   Shawshank Redemption, The (1994)\n",
            "413      475                   In the Name of the Father (1993)\n",
            "474      541                                Blade Runner (1982)\n",
            "602      750  Dr. Strangelove or: How I Learned to Stop Worr...\n",
            "659      858                              Godfather, The (1972)\n",
            "684      902                      Breakfast at Tiffany's (1961)\n",
            "690      908                          North by Northwest (1959)\n",
            "694      912                                  Casablanca (1942)\n",
            "704      922      Sunset Blvd. (a.k.a. Sunset Boulevard) (1950)\n"
          ]
        }
      ],
      "source": [
        "import pandas as pd\n",
        "from surprise import Dataset, Reader, SVD\n",
        "from surprise.model_selection import train_test_split, cross_validate\n",
        "ratings_path = \"/content/ratings.csv\"\n",
        "movies_path = \"/content/movies.csv\"\n",
        "ratings_df = pd.read_csv(ratings_path)\n",
        "movies_df = pd.read_csv(movies_path)\n",
        "reader = Reader(rating_scale=(0.5, 5.0))\n",
        "data = Dataset.load_from_df(ratings_df[['userId', 'movieId', 'rating']], reader)\n",
        "trainset, testset = train_test_split(data, test_size=0.2)\n",
        "svd_model = SVD()\n",
        "svd_model.fit(trainset)\n",
        "cross_validate(svd_model, data, measures=['RMSE', 'MAE'], cv=5, verbose=True)\n",
        "def recommend_movies(user_id, model, movies_df, n=10):\n",
        "    all_movie_ids = movies_df['movieId'].unique()\n",
        "    user_rated_movies = ratings_df[ratings_df['userId'] == user_id]['movieId']\n",
        "    unrated_movie_ids = [m for m in all_movie_ids if m not in user_rated_movies.values]\n",
        "    predictions = [model.predict(user_id, movie_id) for movie_id in unrated_movie_ids]\n",
        "    predictions.sort(key=lambda x: x.est, reverse=True)  # Sort by estimated rating\n",
        "    top_recommendations = predictions[:n]\n",
        "    recommended_movie_ids = [int(pred.iid) for pred in top_recommendations]\n",
        "    recommended_movies = movies_df[movies_df['movieId'].isin(recommended_movie_ids)]\n",
        "    return recommended_movies[['movieId', 'title']]\n",
        "user_id = 1\n",
        "recommendations = recommend_movies(user_id, svd_model, movies_df, n=10)\n",
        "print(\"Top 10 recommended movies:\")\n",
        "print(recommendations)\n"
      ]
    }
  ]
}